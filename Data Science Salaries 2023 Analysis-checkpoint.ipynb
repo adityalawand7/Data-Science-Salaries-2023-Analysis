{
 "cells": [
  {
   "cell_type": "markdown",
   "id": "17efb21c",
   "metadata": {},
   "source": [
    "Dataset used - \"https://www.kaggle.com/datasets/arnabchaki/data-science-salaries-2023\""
   ]
  },
  {
   "cell_type": "code",
   "execution_count": null,
   "id": "0b852908",
   "metadata": {},
   "outputs": [],
   "source": [
    "#Importing the libraries required"
   ]
  },
  {
   "cell_type": "code",
   "execution_count": 1,
   "id": "0ae4a7c6",
   "metadata": {},
   "outputs": [],
   "source": [
    "import pandas as pd\n",
    "import matplotlib.pyplot as plt\n",
    "import seaborn as sb\n",
    "%matplotlib inline"
   ]
  },
  {
   "cell_type": "markdown",
   "id": "3aa8d49e",
   "metadata": {},
   "source": [
    "# Questions and their answers"
   ]
  },
  {
   "cell_type": "code",
   "execution_count": 2,
   "id": "a53bbd90",
   "metadata": {},
   "outputs": [],
   "source": [
    "# Loading the dataset\n",
    "df = pd.read_csv(\"D:/Data Science Projects/Data Science Salaries/ds_salaries.csv\")"
   ]
  },
  {
   "cell_type": "code",
   "execution_count": 3,
   "id": "a2119af9",
   "metadata": {},
   "outputs": [],
   "source": [
    "df.replace(to_replace=[\"L\",\"S\",\"M\"], value=[\"Large\",\"Small\",\"Medium\"], inplace=True)"
   ]
  },
  {
   "cell_type": "markdown",
   "id": "ef2ddb20",
   "metadata": {},
   "source": [
    "<br>"
   ]
  },
  {
   "cell_type": "markdown",
   "id": "aafd026c",
   "metadata": {},
   "source": [
    "Q1. What is the distribution of salaries in the data science field in 2023?"
   ]
  },
  {
   "cell_type": "code",
   "execution_count": 4,
   "id": "2e063d89",
   "metadata": {},
   "outputs": [
    {
     "data": {
      "image/png": "[encoded data removed]",
      "text/plain": [
       "<Figure size 640x480 with 1 Axes>"
      ]
     },
     "metadata": {},
     "output_type": "display_data"
    }
   ],
   "source": [
    "# Creating the histogram to visualize the salary distribution\n",
    "plt.hist(df[\"salary\"], bins=20)\n",
    "plt.xlabel(\"salary\")\n",
    "plt.ylabel(\"Frequency\")\n",
    "plt.title(\"Distribution of Salaries in 2023\")\n",
    "plt.show()"
   ]
  },
  {
   "cell_type": "markdown",
   "id": "372f0cd3",
   "metadata": {},
   "source": [
    "Interpretation of the histogram: The histogram shows <strong>Skewed Distribution</strong>. If the histogram has a longer tail on either the left or the right side, it indicates a skewed distribution. A positive skew (longer tail on the right) suggests a few high salaries pulling the average up, while a negative skew (longer tail on the left) suggests a few low salaries pulling the average down. Since their is a long tail on the left side, it would mean that there are relatively fewer salaries towards the higher end and more salaries towards the lower end."
   ]
  },
  {
   "cell_type": "markdown",
   "id": "a4940035",
   "metadata": {},
   "source": [
    "<br>"
   ]
  },
  {
   "cell_type": "markdown",
   "id": "daa94998",
   "metadata": {},
   "source": [
    "Q2. What is the average salary for data science professionals in 2023?"
   ]
  },
  {
   "cell_type": "code",
   "execution_count": 5,
   "id": "61ac8e48",
   "metadata": {},
   "outputs": [
    {
     "name": "stdout",
     "output_type": "stream",
     "text": [
      "The average salary offered is - USD 190695.57\n"
     ]
    }
   ],
   "source": [
    "average_salary = df[\"salary\"].mean()\n",
    "print(\"The average salary offered is - USD\",round(average_salary,2))"
   ]
  },
  {
   "cell_type": "markdown",
   "id": "d08db24f",
   "metadata": {},
   "source": [
    "<br>"
   ]
  },
  {
   "cell_type": "markdown",
   "id": "d190d388",
   "metadata": {},
   "source": [
    "Q3. Are there any differences in salaries based on different job titles?"
   ]
  },
  {
   "cell_type": "code",
   "execution_count": 6,
   "id": "2e60e902",
   "metadata": {},
   "outputs": [
    {
     "name": "stdout",
     "output_type": "stream",
     "text": [
      "Average Salary by Job Title:\n"
     ]
    },
    {
     "data": {
      "text/html": [
       "<div>\n",
       "<style scoped>\n",
       "    .dataframe tbody tr th:only-of-type {\n",
       "        vertical-align: middle;\n",
       "    }\n",
       "\n",
       "    .dataframe tbody tr th {\n",
       "        vertical-align: top;\n",
       "    }\n",
       "\n",
       "    .dataframe thead th {\n",
       "        text-align: right;\n",
       "    }\n",
       "</style>\n",
       "<table border=\"1\" class=\"dataframe\">\n",
       "  <thead>\n",
       "    <tr style=\"text-align: right;\">\n",
       "      <th></th>\n",
       "      <th>salary</th>\n",
       "    </tr>\n",
       "    <tr>\n",
       "      <th>job_title</th>\n",
       "      <th></th>\n",
       "    </tr>\n",
       "  </thead>\n",
       "  <tbody>\n",
       "    <tr>\n",
       "      <th>3D Computer Vision Researcher</th>\n",
       "      <td>120000.000000</td>\n",
       "    </tr>\n",
       "    <tr>\n",
       "      <th>AI Developer</th>\n",
       "      <td>137181.818182</td>\n",
       "    </tr>\n",
       "    <tr>\n",
       "      <th>AI Programmer</th>\n",
       "      <td>55000.000000</td>\n",
       "    </tr>\n",
       "    <tr>\n",
       "      <th>AI Scientist</th>\n",
       "      <td>275312.500000</td>\n",
       "    </tr>\n",
       "    <tr>\n",
       "      <th>Analytics Engineer</th>\n",
       "      <td>151352.621359</td>\n",
       "    </tr>\n",
       "    <tr>\n",
       "      <th>...</th>\n",
       "      <td>...</td>\n",
       "    </tr>\n",
       "    <tr>\n",
       "      <th>Research Engineer</th>\n",
       "      <td>162752.810811</td>\n",
       "    </tr>\n",
       "    <tr>\n",
       "      <th>Research Scientist</th>\n",
       "      <td>160768.890244</td>\n",
       "    </tr>\n",
       "    <tr>\n",
       "      <th>Software Data Engineer</th>\n",
       "      <td>75000.000000</td>\n",
       "    </tr>\n",
       "    <tr>\n",
       "      <th>Staff Data Analyst</th>\n",
       "      <td>15000.000000</td>\n",
       "    </tr>\n",
       "    <tr>\n",
       "      <th>Staff Data Scientist</th>\n",
       "      <td>105000.000000</td>\n",
       "    </tr>\n",
       "  </tbody>\n",
       "</table>\n",
       "<p>93 rows × 1 columns</p>\n",
       "</div>"
      ],
      "text/plain": [
       "                                      salary\n",
       "job_title                                   \n",
       "3D Computer Vision Researcher  120000.000000\n",
       "AI Developer                   137181.818182\n",
       "AI Programmer                   55000.000000\n",
       "AI Scientist                   275312.500000\n",
       "Analytics Engineer             151352.621359\n",
       "...                                      ...\n",
       "Research Engineer              162752.810811\n",
       "Research Scientist             160768.890244\n",
       "Software Data Engineer          75000.000000\n",
       "Staff Data Analyst              15000.000000\n",
       "Staff Data Scientist           105000.000000\n",
       "\n",
       "[93 rows x 1 columns]"
      ]
     },
     "execution_count": 6,
     "metadata": {},
     "output_type": "execute_result"
    }
   ],
   "source": [
    "avg_salary_by_title = pd.DataFrame(df.groupby(\"job_title\")[\"salary\"].mean())\n",
    "print(\"Average Salary by Job Title:\")\n",
    "avg_salary_by_title"
   ]
  },
  {
   "cell_type": "markdown",
   "id": "eea5ccff",
   "metadata": {},
   "source": [
    "<br>"
   ]
  },
  {
   "cell_type": "markdown",
   "id": "f2a41a58",
   "metadata": {},
   "source": [
    "Q4. Average salaries based on the company size for data science professionals?"
   ]
  },
  {
   "cell_type": "code",
   "execution_count": 7,
   "id": "78b16edf",
   "metadata": {},
   "outputs": [
    {
     "name": "stdout",
     "output_type": "stream",
     "text": [
      "Average Salaries based on the Company Size\n"
     ]
    },
    {
     "data": {
      "text/html": [
       "<div>\n",
       "<style scoped>\n",
       "    .dataframe tbody tr th:only-of-type {\n",
       "        vertical-align: middle;\n",
       "    }\n",
       "\n",
       "    .dataframe tbody tr th {\n",
       "        vertical-align: top;\n",
       "    }\n",
       "\n",
       "    .dataframe thead th {\n",
       "        text-align: right;\n",
       "    }\n",
       "</style>\n",
       "<table border=\"1\" class=\"dataframe\">\n",
       "  <thead>\n",
       "    <tr style=\"text-align: right;\">\n",
       "      <th></th>\n",
       "      <th>salary</th>\n",
       "    </tr>\n",
       "    <tr>\n",
       "      <th>company_size</th>\n",
       "      <th></th>\n",
       "    </tr>\n",
       "  </thead>\n",
       "  <tbody>\n",
       "    <tr>\n",
       "      <th>Large</th>\n",
       "      <td>438794.372247</td>\n",
       "    </tr>\n",
       "    <tr>\n",
       "      <th>Medium</th>\n",
       "      <td>150712.836029</td>\n",
       "    </tr>\n",
       "    <tr>\n",
       "      <th>Small</th>\n",
       "      <td>281430.101351</td>\n",
       "    </tr>\n",
       "  </tbody>\n",
       "</table>\n",
       "</div>"
      ],
      "text/plain": [
       "                     salary\n",
       "company_size               \n",
       "Large         438794.372247\n",
       "Medium        150712.836029\n",
       "Small         281430.101351"
      ]
     },
     "execution_count": 7,
     "metadata": {},
     "output_type": "execute_result"
    }
   ],
   "source": [
    "avg_salary_based_on_comp_size = pd.DataFrame(df.groupby(\"company_size\")[\"salary\"].mean())\n",
    "print(\"Average Salaries based on the Company Size\")\n",
    "avg_salary_based_on_comp_size"
   ]
  },
  {
   "cell_type": "markdown",
   "id": "c0208dc8",
   "metadata": {},
   "source": [
    "<br>"
   ]
  },
  {
   "cell_type": "markdown",
   "id": "79dda9cc",
   "metadata": {},
   "source": [
    "Q5. Maximum and Minimum salary offered based on the company size for data science professionals?"
   ]
  },
  {
   "cell_type": "code",
   "execution_count": 8,
   "id": "24a2778d",
   "metadata": {},
   "outputs": [
    {
     "name": "stdout",
     "output_type": "stream",
     "text": [
      "Maximum Salary based on Company Size\n"
     ]
    },
    {
     "data": {
      "text/html": [
       "<div>\n",
       "<style scoped>\n",
       "    .dataframe tbody tr th:only-of-type {\n",
       "        vertical-align: middle;\n",
       "    }\n",
       "\n",
       "    .dataframe tbody tr th {\n",
       "        vertical-align: top;\n",
       "    }\n",
       "\n",
       "    .dataframe thead th {\n",
       "        text-align: right;\n",
       "    }\n",
       "</style>\n",
       "<table border=\"1\" class=\"dataframe\">\n",
       "  <thead>\n",
       "    <tr style=\"text-align: right;\">\n",
       "      <th></th>\n",
       "      <th>Maximum Salary</th>\n",
       "    </tr>\n",
       "    <tr>\n",
       "      <th>company_size</th>\n",
       "      <th></th>\n",
       "    </tr>\n",
       "  </thead>\n",
       "  <tbody>\n",
       "    <tr>\n",
       "      <th>Large</th>\n",
       "      <td>30400000</td>\n",
       "    </tr>\n",
       "    <tr>\n",
       "      <th>Medium</th>\n",
       "      <td>6600000</td>\n",
       "    </tr>\n",
       "    <tr>\n",
       "      <th>Small</th>\n",
       "      <td>8500000</td>\n",
       "    </tr>\n",
       "  </tbody>\n",
       "</table>\n",
       "</div>"
      ],
      "text/plain": [
       "              Maximum Salary\n",
       "company_size                \n",
       "Large               30400000\n",
       "Medium               6600000\n",
       "Small                8500000"
      ]
     },
     "execution_count": 8,
     "metadata": {},
     "output_type": "execute_result"
    }
   ],
   "source": [
    "max_salary_based_on_comp_size = pd.DataFrame(df.groupby(\"company_size\")[\"salary\"].max())\n",
    "max_salary_based_on_comp_size.columns = ['Maximum Salary']\n",
    "print(\"Maximum Salary based on Company Size\")\n",
    "max_salary_based_on_comp_size"
   ]
  },
  {
   "cell_type": "code",
   "execution_count": 9,
   "id": "70928d94",
   "metadata": {},
   "outputs": [
    {
     "name": "stdout",
     "output_type": "stream",
     "text": [
      "Minimum Salary based on Company Size\n"
     ]
    },
    {
     "data": {
      "text/html": [
       "<div>\n",
       "<style scoped>\n",
       "    .dataframe tbody tr th:only-of-type {\n",
       "        vertical-align: middle;\n",
       "    }\n",
       "\n",
       "    .dataframe tbody tr th {\n",
       "        vertical-align: top;\n",
       "    }\n",
       "\n",
       "    .dataframe thead th {\n",
       "        text-align: right;\n",
       "    }\n",
       "</style>\n",
       "<table border=\"1\" class=\"dataframe\">\n",
       "  <thead>\n",
       "    <tr style=\"text-align: right;\">\n",
       "      <th></th>\n",
       "      <th>Minimum Salary</th>\n",
       "    </tr>\n",
       "    <tr>\n",
       "      <th>company_size</th>\n",
       "      <th></th>\n",
       "    </tr>\n",
       "  </thead>\n",
       "  <tbody>\n",
       "    <tr>\n",
       "      <th>Large</th>\n",
       "      <td>8000</td>\n",
       "    </tr>\n",
       "    <tr>\n",
       "      <th>Medium</th>\n",
       "      <td>7500</td>\n",
       "    </tr>\n",
       "    <tr>\n",
       "      <th>Small</th>\n",
       "      <td>6000</td>\n",
       "    </tr>\n",
       "  </tbody>\n",
       "</table>\n",
       "</div>"
      ],
      "text/plain": [
       "              Minimum Salary\n",
       "company_size                \n",
       "Large                   8000\n",
       "Medium                  7500\n",
       "Small                   6000"
      ]
     },
     "execution_count": 9,
     "metadata": {},
     "output_type": "execute_result"
    }
   ],
   "source": [
    "min_salary_based_on_comp_size = pd.DataFrame(df.groupby(\"company_size\")[\"salary\"].min())\n",
    "min_salary_based_on_comp_size.columns = ['Minimum Salary']\n",
    "print(\"Minimum Salary based on Company Size\")\n",
    "min_salary_based_on_comp_size"
   ]
  },
  {
   "cell_type": "markdown",
   "id": "5b11e9c2",
   "metadata": {},
   "source": [
    "<br>"
   ]
  }
 ],
 "metadata": {
  "kernelspec": {
   "display_name": "Python 3 (ipykernel)",
   "language": "python",
   "name": "python3"
  },
  "language_info": {
   "codemirror_mode": {
    "name": "ipython",
    "version": 3
   },
   "file_extension": ".py",
   "mimetype": "text/x-python",
   "name": "python",
   "nbconvert_exporter": "python",
   "pygments_lexer": "ipython3",
   "version": "3.10.9"
  }
 },
 "nbformat": 4,
 "nbformat_minor": 5
}
